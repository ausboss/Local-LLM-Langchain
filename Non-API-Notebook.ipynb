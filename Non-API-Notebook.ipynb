{
 "cells": [
  {
   "attachments": {},
   "cell_type": "markdown",
   "id": "f1fcbe22",
   "metadata": {},
   "source": [
    "# Local Model Notebook loader\n",
    "## This is for people who want to test langchain or other agent/agi related code in a notebook\n",
    "\n",
    "\n",
    "## ⚠️Llama-cpp users🦙⚠️\n",
    "If you are using Llama-cpp you can skip down to the llama cpp cell\n",
    "\n",
    "If your Llama uses gpu then dont skip\n",
    "# Text-generation-webui related code\n",
    "## Load Required Libraries and Modules\n",
    "The first step is to load all the required libraries and modules:"
   ]
  },
  {
   "cell_type": "code",
   "execution_count": null,
   "id": "6df86eb8",
   "metadata": {},
   "outputs": [],
   "source": [
    "!pip install langchain"
   ]
  },
  {
   "cell_type": "code",
   "execution_count": 2,
   "id": "4b411355",
   "metadata": {},
   "outputs": [],
   "source": [
    "import sys\n",
    "sys.argv = [sys.argv[0]]\n",
    "import importlib\n",
    "import json\n",
    "import math\n",
    "import os\n",
    "import re\n",
    "import sys\n",
    "import time\n",
    "import traceback\n",
    "from functools import partial\n",
    "from pathlib import Path\n",
    "from threading import Lock\n",
    "sys.path.append(str(Path().resolve().parent / \"modules\"))\n",
    "\n",
    "import modules.extensions as extensions_module\n",
    "from modules import chat, presets, shared, training, ui, utils\n",
    "from modules.extensions import apply_extensions\n",
    "from modules.github import clone_or_pull_repository\n",
    "from modules.html_generator import chat_html_wrapper\n",
    "from modules.LoRA import add_lora_to_model\n",
    "from modules.models import load_model, unload_model\n",
    "from modules.text_generation import (generate_reply_wrapper,\n",
    "                                     get_encoded_length, stop_everything_event)\n",
    "\n",
    "\n",
    "import torch\n",
    "torch.cuda.set_device(0)"
   ]
  },
  {
   "attachments": {},
   "cell_type": "markdown",
   "id": "636bf6a3",
   "metadata": {},
   "source": [
    "# Parameters and command-line flags\n",
    "\n",
    "input your command line arguments like you would when launching server.py [complete list](https://github.com/oobabooga/text-generation-webui#basic-settings)\n",
    "\n",
    "Example: --auto-devices --wbits 4 --groupsize 128 --no-stream\n"
   ]
  },
  {
   "cell_type": "code",
   "execution_count": 3,
   "id": "58084747",
   "metadata": {},
   "outputs": [],
   "source": [
    "from modules.shared import parser\n",
    "\n",
    "def parse_input_string(input_string):\n",
    "    input_args = input_string.split()\n",
    "    return parser.parse_args(input_args)\n",
    "\n",
    "input_string = input('Enter args string: ')\n",
    "shared.args = parse_input_string(input_string)\n",
    "# Load custom settings from a JSON file\n",
    "settings_file = None\n",
    "if shared.args.settings is not None and Path(shared.args.settings).exists():\n",
    "    settings_file = Path(shared.args.settings)\n",
    "elif Path('settings.json').exists():\n",
    "    settings_file = Path('settings.json')\n",
    "\n",
    "if settings_file is not None:\n",
    "    print(f\"Loading settings from {settings_file}...\")\n",
    "    new_settings = json.loads(open(settings_file, 'r').read())\n",
    "    for item in new_settings:\n",
    "        shared.settings[item] = new_settings[item]\n",
    "\n",
    "shared.settings['seed'] = -1\n"
   ]
  },
  {
   "attachments": {},
   "cell_type": "markdown",
   "id": "e363387c",
   "metadata": {},
   "source": [
    "# Choose your model"
   ]
  },
  {
   "cell_type": "code",
   "execution_count": null,
   "id": "2d68b2a5",
   "metadata": {},
   "outputs": [],
   "source": [
    "# Function to get available models\n",
    "def get_available_models():\n",
    "    if shared.args.flexgen:\n",
    "        return sorted([re.sub('-np$', '', item.name) for item in list(Path(f'{shared.args.model_dir}/').glob('*')) if item.name.endswith('-np')], key=str.lower)\n",
    "    else:\n",
    "        return sorted([re.sub('.pth$', '', item.name) for item in list(Path(f'{shared.args.model_dir}/').glob('*')) if not item.name.endswith(('.txt', '-np', '.pt', '.json'))], key=str.lower)\n",
    "\n",
    "# Get the list of available models\n",
    "available_models = get_available_models()\n",
    "\n",
    "# Set the model name\n",
    "if shared.args.model is not None:\n",
    "    shared.model_name = shared.args.model\n",
    "else:\n",
    "    if len(available_models) == 0:\n",
    "        print('No models are available! Please download at least one.')\n",
    "        sys.exit(0)\n",
    "    elif len(available_models) == 1:\n",
    "        i = 0\n",
    "    else:\n",
    "        print('The following models are available:\\n')\n",
    "        for i, model in enumerate(available_models):\n",
    "            print(f'{i+1}. {model}')\n",
    "        print(f'\\nWhich one do you want to load? 1-{len(available_models)}\\n')\n",
    "        i = int(input()) - 1\n",
    "        print()\n",
    "    shared.model_name = available_models[i]\n"
   ]
  },
  {
   "attachments": {},
   "cell_type": "markdown",
   "id": "2b4771cd",
   "metadata": {},
   "source": [
    "# Load Model and Tokenizer"
   ]
  },
  {
   "cell_type": "code",
   "execution_count": null,
   "id": "02f6ae98",
   "metadata": {},
   "outputs": [],
   "source": [
    "# Load the model and tokenizer\n",
    "shared.model, shared.tokenizer = load_model(shared.model_name)\n",
    "\n",
    "# Add Lora to the model if specified\n",
    "if shared.args.lora:\n",
    "    add_lora_to_model(shared.args.lora)\n",
    "\n",
    "# Set up the tokenizer and model variables\n",
    "tokenizer = shared.tokenizer\n",
    "base_model = shared.model"
   ]
  },
  {
   "attachments": {},
   "cell_type": "markdown",
   "id": "c2b4c523",
   "metadata": {},
   "source": [
    "# Create Text-Generation Pipeline\n",
    "## We create a text-generation pipeline with the specified parameters:\n",
    "Feel free to change these to best fit your model/usage\n"
   ]
  },
  {
   "cell_type": "code",
   "execution_count": null,
   "id": "3857d1a8",
   "metadata": {},
   "outputs": [],
   "source": [
    "# Create a text-generation pipeline with the specified parameters\n",
    "pipe = pipeline(\n",
    "    \"text-generation\",\n",
    "    model=base_model, \n",
    "    tokenizer=tokenizer,\n",
    "    device=0,\n",
    "    max_length=1200,\n",
    "    temperature=0.6,\n",
    "    top_p=0.95,\n",
    "    repetition_penalty=1.1\n",
    ")\n",
    "\n",
    "llm = HuggingFacePipeline(pipeline=pipe)\n"
   ]
  },
  {
   "attachments": {},
   "cell_type": "markdown",
   "id": "ee2996aa",
   "metadata": {},
   "source": [
    "# The model is now loaded and can be used with langchain\n"
   ]
  },
  {
   "attachments": {},
   "cell_type": "markdown",
   "id": "c516f055",
   "metadata": {},
   "source": [
    "\n",
    "# 🦙Llama-cpp users🦙\n",
    "## If you are just using llama-cpp then follow these steps\n",
    "\n",
    "The a folder containing the bin file should be located in the models folder \n",
    "\n",
    "Example: \"./models/Alpaca-7B-ggml-4bit-LoRA-merged/ggml-model-q4_0.bin\"\n",
    "## Install and Import dependencies"
   ]
  },
  {
   "cell_type": "code",
   "execution_count": null,
   "id": "216c2668",
   "metadata": {},
   "outputs": [],
   "source": [
    "!pip install llama-cpp-python\n",
    "!pip install langchain"
   ]
  },
  {
   "cell_type": "code",
   "execution_count": null,
   "id": "5f5c1334",
   "metadata": {},
   "outputs": [],
   "source": [
    "from langchain.llms import LlamaCpp\n",
    "from langchain import PromptTemplate, LLMChain"
   ]
  },
  {
   "attachments": {},
   "cell_type": "markdown",
   "id": "eb8478bd",
   "metadata": {},
   "source": [
    "# Select Model"
   ]
  },
  {
   "cell_type": "code",
   "execution_count": null,
   "id": "83932f62",
   "metadata": {},
   "outputs": [],
   "source": [
    "model_dir = \"./models\"\n",
    "import os\n",
    "# get a list of all folders in the models directory\n",
    "model_folders = [f for f in os.listdir(model_dir) if os.path.isdir(os.path.join(model_dir, f))]\n",
    "\n",
    "# print the list of model names with their index starting at 1\n",
    "for i, model_name in enumerate(model_folders):\n",
    "    print(f\"{i+1}. {model_name}\")\n",
    "\n",
    "# ask the user to select a model by number\n",
    "selected_index = int(input(\"Enter the number of the model to select: \")) - 1\n",
    "selected_model = model_folders[selected_index]\n",
    "\n",
    "# check if the selected model contains a .bin file and save the path if it does\n",
    "model_bin = None\n",
    "for file in os.listdir(os.path.join(model_dir, selected_model)):\n",
    "    if file.endswith(\".bin\"):\n",
    "        model_bin = os.path.join(model_dir, selected_model, file)\n",
    "        break\n",
    "\n",
    "if model_bin:\n",
    "    print(f\"Selected model binary: {model_bin}\")\n",
    "else:\n",
    "    print(\"No .bin file found in selected model directory.\")\n",
    "    \n",
    "llm = LlamaCpp(model_path=model_bin)"
   ]
  },
  {
   "attachments": {},
   "cell_type": "markdown",
   "id": "7bc3e44b",
   "metadata": {},
   "source": [
    "# Begginning of Langchain section\n",
    "I stole some of the code from [this colab](https://colab.research.google.com/drive/1VOwJpcZqOXag-ZXi-52ibOx6L5Pw-YJi#scrollTo=nu-AmhDLEK0h) that goes with [this video](https://www.youtube.com/watch?v=LbT1yp6quS8) by Patrick Loeber. I recommend subscribing."
   ]
  },
  {
   "attachments": {},
   "cell_type": "markdown",
   "id": "f877c78c",
   "metadata": {},
   "source": [
    "# Single Action Agent Google search\n"
   ]
  },
  {
   "cell_type": "code",
   "execution_count": null,
   "id": "c19db4aa",
   "metadata": {},
   "outputs": [],
   "source": [
    "!pip install langchain\n",
    "!pip install google-search-results"
   ]
  },
  {
   "cell_type": "code",
   "execution_count": null,
   "id": "6d22c464",
   "metadata": {},
   "outputs": [],
   "source": [
    "from langchain.agents import Tool, AgentExecutor, LLMSingleActionAgent, AgentOutputParser\n",
    "from langchain.prompts import StringPromptTemplate\n",
    "from langchain import SerpAPIWrapper, LLMChain\n",
    "from transformers import pipeline as HuggingFacePipeline, AutoModelForCausalLM, AutoTokenizer\n",
    "from typing import List, Union, Any\n",
    "from langchain.schema import AgentAction, AgentFinish\n",
    "import re\n",
    "import os"
   ]
  },
  {
   "cell_type": "code",
   "execution_count": null,
   "id": "0740ce8f",
   "metadata": {},
   "outputs": [],
   "source": [
    "# Load in some tools to use\n",
    "\n",
    "os.environ[\"SERPAPI_API_KEY\"] = \"\""
   ]
  },
  {
   "cell_type": "code",
   "execution_count": null,
   "id": "2af44507",
   "metadata": {
    "scrolled": true
   },
   "outputs": [],
   "source": [
    "# Define which tools the agent can use to answer user queries\n",
    "search = SerpAPIWrapper()\n",
    "tools = [\n",
    "    Tool(\n",
    "        name = \"Search\",\n",
    "        func=search.run,\n",
    "        description=\"useful for when you need to answer questions about current events\"\n",
    "    )\n",
    "]"
   ]
  },
  {
   "cell_type": "code",
   "execution_count": null,
   "id": "93d14b81",
   "metadata": {},
   "outputs": [],
   "source": [
    "query = \"How many people live in Canada as of 2023?\"\n",
    "result = search.run(query)\n",
    "print(result)\n"
   ]
  },
  {
   "cell_type": "code",
   "execution_count": null,
   "id": "f92f6b6f",
   "metadata": {},
   "outputs": [],
   "source": [
    "template = \"\"\"\n",
    "Below is an instruction that describes a task, paired with an input that provides further context. Write a response that appropriately completes the request and explain what actions were used.\n",
    "\n",
    "### Instruction:\n",
    "Answer the following questions as best you can. Speak like a priate when you give the Final answer. You have access to the following tools:\n",
    "\n",
    "{tools}\n",
    "\n",
    "Use the following format:\n",
    "\n",
    "Question: the input question you must answer\n",
    "Thought: you should always think about what to do\n",
    "Action: the action to take, should be one of [{tool_names}]\n",
    "Action Input: the input to the action\n",
    "Observation: the result of the action\n",
    "... (this Thought/Action/Action Input/Observation can repeat N times)\n",
    "Thought: I now know the final answer\n",
    "Final Answer: the final answer to the original input question\n",
    "\n",
    "Begin! Remember to speak as a pirate when giving your final answer. Use lots of \"Arg\"s\n",
    "\n",
    "### Input:\n",
    "{input}\n",
    "\n",
    "### Response:\n",
    "{agent_scratchpad}\n",
    "\"\"\""
   ]
  },
  {
   "cell_type": "code",
   "execution_count": null,
   "id": "b20f48e3",
   "metadata": {
    "scrolled": true
   },
   "outputs": [],
   "source": [
    "# Set up a prompt template\n",
    "class CustomPromptTemplate(StringPromptTemplate):\n",
    "    # The template to use\n",
    "    template: str\n",
    "    # The list of tools available\n",
    "    tools: List[Tool]\n",
    "    \n",
    "    def format(self, **kwargs) -> str:\n",
    "        # Get the intermediate steps (AgentAction, Observation tuples)\n",
    "        # Format them in a particular way\n",
    "        intermediate_steps = kwargs.pop(\"intermediate_steps\")\n",
    "        thoughts = \"\"\n",
    "        for action, observation in intermediate_steps:\n",
    "            thoughts += action.log\n",
    "            thoughts += f\"\\nObservation: {observation}\\nThought: \"\n",
    "        # Set the agent_scratchpad variable to that value\n",
    "        kwargs[\"agent_scratchpad\"] = thoughts\n",
    "        # Create a tools variable from the list of tools provided\n",
    "        kwargs[\"tools\"] = \"\\n\".join([f\"{tool.name}: {tool.description}\" for tool in self.tools])\n",
    "        # Create a list of tool names for the tools provided\n",
    "        kwargs[\"tool_names\"] = \", \".join([tool.name for tool in self.tools])\n",
    "        return self.template.format(**kwargs)\n",
    "\n",
    "# Replace the template variable with the new Alpaca Instruct template\n",
    "template = \"\"\"\n",
    "Please follow the steps below to answer the question using the available tools. Repeat the steps as necessary until you find a solution.\n",
    "\n",
    "### Instruction:\n",
    "Answer the question: {input}\n",
    "You have access to the following tools: {tools}\n",
    "\n",
    "### Steps:\n",
    "1. Think about the question and the best tool to use.\n",
    "2. Perform the action using the selected tool.\n",
    "3. Observe the results of the action and provide the final answer.\n",
    "\n",
    "### Response Format:\n",
    "Thought: Your thought process.\n",
    "Action: The name of the tool (one word only, from {tool_names}).\n",
    "Action Input: The input you provide to the tool.\n",
    "Observation: The results obtained from using the tool.\n",
    "Final Answer: The answer to the question based on your observation.\n",
    "\"\"\"\n",
    "\n",
    "\n",
    "\n",
    "\n",
    "prompt = CustomPromptTemplate(\n",
    "    template=template,\n",
    "    tools=tools,\n",
    "    # This omits the `agent_scratchpad`, `tools`, and `tool_names` variables because those are generated dynamically\n",
    "    # This includes the `intermediate_steps` variable because that is needed\n",
    "    input_variables=[\"input\", \"intermediate_steps\"]\n",
    ")\n"
   ]
  },
  {
   "cell_type": "code",
   "execution_count": null,
   "id": "76a507cf",
   "metadata": {},
   "outputs": [],
   "source": [
    "class CustomOutputParser(AgentOutputParser):\n",
    "    def parse(self, llm_output: str) -> Union[AgentAction, AgentFinish]:\n",
    "        if \"Final Answer:\" in llm_output:\n",
    "            return AgentFinish(\n",
    "                return_values={\"output\": llm_output.split(\"Final Answer:\")[-1].strip()},\n",
    "                log=llm_output,\n",
    "            )\n",
    "\n",
    "        regex = r\"Action: (.*?)\\nAction Input: (.*?)\\n\"\n",
    "        match = re.search(regex, llm_output, re.DOTALL)\n",
    "        if not match:\n",
    "            raise ValueError(f\"Could not parse LLM output: `{llm_output}`\")\n",
    "        action = match.group(1).strip()\n",
    "        action_input = match.group(2).strip()\n",
    "\n",
    "        return AgentAction(tool=action, tool_input=action_input, log=llm_output)"
   ]
  },
  {
   "cell_type": "code",
   "execution_count": null,
   "id": "4adbed88",
   "metadata": {},
   "outputs": [],
   "source": [
    "from langchain.agents import AgentOutputParser\n",
    "from typing import Any\n",
    "\n",
    "class RawOutputParser(AgentOutputParser):\n",
    "    def parse(self, llm_output: str) -> Any:\n",
    "        return llm_output\n",
    "\n",
    "agent_executor = AgentExecutor(\n",
    "    agent=agent,\n",
    "    agent_output_parser=RawOutputParser(),\n",
    "    tools=[search],\n",
    "    name_to_tool_map={\"search\": search},\n",
    "    time_limit_secs=60,\n",
    ")\n"
   ]
  },
  {
   "cell_type": "code",
   "execution_count": null,
   "id": "3f2424a7",
   "metadata": {},
   "outputs": [],
   "source": [
    "output_parser = CustomOutputParser()"
   ]
  },
  {
   "cell_type": "code",
   "execution_count": null,
   "id": "bb1937ba",
   "metadata": {},
   "outputs": [],
   "source": [
    "# LLM chain consisting of the LLM and a prompt\n",
    "llm_chain = LLMChain(llm=llm, prompt=prompt)"
   ]
  },
  {
   "cell_type": "code",
   "execution_count": null,
   "id": "89728919",
   "metadata": {},
   "outputs": [],
   "source": [
    "from langchain.agents import AgentOutputParser\n",
    "from typing import Any\n",
    "\n",
    "class RawOutputParser(AgentOutputParser):\n",
    "    def parse(self, llm_output: str) -> Any:\n",
    "        return llm_output\n",
    "\n",
    "agent_executor = AgentExecutor(\n",
    "    agent=agent,\n",
    "    agent_output_parser=RawOutputParser(),\n",
    "    tools=[search],\n",
    "    name_to_tool_map={\"search\": search},\n",
    "    time_limit_secs=60,\n",
    ")"
   ]
  },
  {
   "cell_type": "code",
   "execution_count": null,
   "id": "48a19795",
   "metadata": {},
   "outputs": [],
   "source": [
    "agent_executor = AgentExecutor.from_agent_and_tools(agent=agent, tools=tools, verbose=True)"
   ]
  },
  {
   "cell_type": "code",
   "execution_count": null,
   "id": "33b0717b",
   "metadata": {},
   "outputs": [],
   "source": [
    "agent_executor.run(\"How many people live in canada as of 2023?\")"
   ]
  },
  {
   "attachments": {},
   "cell_type": "markdown",
   "id": "fea4812c",
   "metadata": {},
   "source": [
    "## Set up environment\n",
    "\n",
    "Do necessary imports, etc."
   ]
  },
  {
   "cell_type": "code",
   "execution_count": 3,
   "id": "9af9734e",
   "metadata": {},
   "outputs": [],
   "source": [
    "from langchain.agents import Tool, AgentExecutor, LLMSingleActionAgent, AgentOutputParser\n",
    "from langchain.prompts import BaseChatPromptTemplate\n",
    "from langchain import SerpAPIWrapper, LLMChain\n",
    "from langchain.chat_models import ChatOpenAI\n",
    "from typing import List, Union\n",
    "from langchain.schema import AgentAction, AgentFinish, HumanMessage\n",
    "import re"
   ]
  },
  {
   "attachments": {},
   "cell_type": "markdown",
   "id": "6df0253f",
   "metadata": {},
   "source": [
    "## Set up tool\n",
    "\n",
    "Set up any tools the agent may want to use. This may be necessary to put in the prompt (so that the agent knows to use these tools)."
   ]
  },
  {
   "cell_type": "code",
   "execution_count": 2,
   "id": "becda2a1",
   "metadata": {},
   "outputs": [],
   "source": [
    "# Define which tools the agent can use to answer user queries\n",
    "search = SerpAPIWrapper()\n",
    "tools = [\n",
    "    Tool(\n",
    "        name = \"Search\",\n",
    "        func=search.run,\n",
    "        description=\"useful for when you need to answer questions about current events\"\n",
    "    )\n",
    "]"
   ]
  },
  {
   "attachments": {},
   "cell_type": "markdown",
   "id": "2e7a075c",
   "metadata": {},
   "source": [
    "## Prompt Template\n",
    "\n",
    "This instructs the agent on what to do. Generally, the template should incorporate:\n",
    "    \n",
    "- `tools`: which tools the agent has access and how and when to call them.\n",
    "- `intermediate_steps`: These are tuples of previous (`AgentAction`, `Observation`) pairs. These are generally not passed directly to the model, but the prompt template formats them in a specific way.\n",
    "- `input`: generic user input"
   ]
  },
  {
   "cell_type": "code",
   "execution_count": 6,
   "id": "339b1bb8",
   "metadata": {},
   "outputs": [],
   "source": [
    "# Set up the base template\n",
    "template = \"\"\"Answer the following questions as best you can, but speaking as a pirate might speak. You have access to the following tools:\n",
    "\n",
    "{tools}\n",
    "\n",
    "Use the following format:\n",
    "\n",
    "Question: the input question you must answer\n",
    "Thought: you should always think about what to do\n",
    "Action: the action to take, should be one of [{tool_names}]\n",
    "Action Input: the input to the action\n",
    "Observation: the result of the action\n",
    "... (this Thought/Action/Action Input/Observation can repeat N times)\n",
    "Thought: I now know the final answer\n",
    "Final Answer: the final answer to the original input question\n",
    "\n",
    "Begin! Remember to speak as a pirate when giving your final answer. Use lots of \"Arg\"s\n",
    "\n",
    "Question: {input}\n",
    "{agent_scratchpad}\"\"\""
   ]
  },
  {
   "cell_type": "code",
   "execution_count": 7,
   "id": "fd969d31",
   "metadata": {},
   "outputs": [],
   "source": [
    "# Set up a prompt template\n",
    "class CustomPromptTemplate(BaseChatPromptTemplate):\n",
    "    # The template to use\n",
    "    template: str\n",
    "    # The list of tools available\n",
    "    tools: List[Tool]\n",
    "    \n",
    "    def format_messages(self, **kwargs) -> str:\n",
    "        # Get the intermediate steps (AgentAction, Observation tuples)\n",
    "        # Format them in a particular way\n",
    "        intermediate_steps = kwargs.pop(\"intermediate_steps\")\n",
    "        thoughts = \"\"\n",
    "        for action, observation in intermediate_steps:\n",
    "            thoughts += action.log\n",
    "            thoughts += f\"\\nObservation: {observation}\\nThought: \"\n",
    "        # Set the agent_scratchpad variable to that value\n",
    "        kwargs[\"agent_scratchpad\"] = thoughts\n",
    "        # Create a tools variable from the list of tools provided\n",
    "        kwargs[\"tools\"] = \"\\n\".join([f\"{tool.name}: {tool.description}\" for tool in self.tools])\n",
    "        # Create a list of tool names for the tools provided\n",
    "        kwargs[\"tool_names\"] = \", \".join([tool.name for tool in self.tools])\n",
    "        formatted = self.template.format(**kwargs)\n",
    "        return [HumanMessage(content=formatted)]"
   ]
  },
  {
   "cell_type": "code",
   "execution_count": 8,
   "id": "798ef9fb",
   "metadata": {},
   "outputs": [],
   "source": [
    "prompt = CustomPromptTemplate(\n",
    "    template=template,\n",
    "    tools=tools,\n",
    "    # This omits the `agent_scratchpad`, `tools`, and `tool_names` variables because those are generated dynamically\n",
    "    # This includes the `intermediate_steps` variable because that is needed\n",
    "    input_variables=[\"input\", \"intermediate_steps\"]\n",
    ")"
   ]
  },
  {
   "attachments": {},
   "cell_type": "markdown",
   "id": "ef3a1af3",
   "metadata": {},
   "source": [
    "## Output Parser\n",
    "\n",
    "The output parser is responsible for parsing the LLM output into `AgentAction` and `AgentFinish`. This usually depends heavily on the prompt used.\n",
    "\n",
    "This is where you can change the parsing to do retries, handle whitespace, etc"
   ]
  },
  {
   "cell_type": "code",
   "execution_count": 9,
   "id": "7c6fe0d3",
   "metadata": {},
   "outputs": [],
   "source": [
    "class CustomOutputParser(AgentOutputParser):\n",
    "    \n",
    "    def parse(self, llm_output: str) -> Union[AgentAction, AgentFinish]:\n",
    "        # Check if agent should finish\n",
    "        if \"Final Answer:\" in llm_output:\n",
    "            return AgentFinish(\n",
    "                # Return values is generally always a dictionary with a single `output` key\n",
    "                # It is not recommended to try anything else at the moment :)\n",
    "                return_values={\"output\": llm_output.split(\"Final Answer:\")[-1].strip()},\n",
    "                log=llm_output,\n",
    "            )\n",
    "        # Parse out the action and action input\n",
    "        regex = r\"Action: (.*?)[\\n]*Action Input:[\\s]*(.*)\"\n",
    "        match = re.search(regex, llm_output, re.DOTALL)\n",
    "        if not match:\n",
    "            raise ValueError(f\"Could not parse LLM output: `{llm_output}`\")\n",
    "        action = match.group(1).strip()\n",
    "        action_input = match.group(2)\n",
    "        # Return the action and action input\n",
    "        return AgentAction(tool=action, tool_input=action_input.strip(\" \").strip('\"'), log=llm_output)"
   ]
  },
  {
   "cell_type": "code",
   "execution_count": 10,
   "id": "d278706a",
   "metadata": {},
   "outputs": [],
   "source": [
    "output_parser = CustomOutputParser()"
   ]
  },
  {
   "attachments": {},
   "cell_type": "markdown",
   "id": "170587b1",
   "metadata": {},
   "source": [
    "## Set up LLM\n",
    "\n",
    "Choose the LLM you want to use!"
   ]
  },
  {
   "cell_type": "code",
   "execution_count": 12,
   "id": "f9d4c374",
   "metadata": {},
   "outputs": [],
   "source": [
    "llm = ChatOpenAI(temperature=0)"
   ]
  },
  {
   "attachments": {},
   "cell_type": "markdown",
   "id": "caeab5e4",
   "metadata": {},
   "source": [
    "## Define the stop sequence\n",
    "\n",
    "This is important because it tells the LLM when to stop generation.\n",
    "\n",
    "This depends heavily on the prompt and model you are using. Generally, you want this to be whatever token you use in the prompt to denote the start of an `Observation` (otherwise, the LLM may hallucinate an observation for you)."
   ]
  },
  {
   "attachments": {},
   "cell_type": "markdown",
   "id": "34be9f65",
   "metadata": {},
   "source": [
    "## Set up the Agent\n",
    "\n",
    "We can now combine everything to set up our agent"
   ]
  },
  {
   "cell_type": "code",
   "execution_count": 13,
   "id": "9b1cc2a2",
   "metadata": {},
   "outputs": [],
   "source": [
    "# LLM chain consisting of the LLM and a prompt\n",
    "llm_chain = LLMChain(llm=llm, prompt=prompt)"
   ]
  },
  {
   "cell_type": "code",
   "execution_count": 14,
   "id": "e4f5092f",
   "metadata": {},
   "outputs": [],
   "source": [
    "tool_names = [tool.name for tool in tools]\n",
    "agent = LLMSingleActionAgent(\n",
    "    llm_chain=llm_chain, \n",
    "    output_parser=output_parser,\n",
    "    stop=[\"\\nObservation:\"], \n",
    "    allowed_tools=tool_names\n",
    ")"
   ]
  },
  {
   "attachments": {},
   "cell_type": "markdown",
   "id": "aa8a5326",
   "metadata": {},
   "source": [
    "## Use the Agent\n",
    "\n",
    "Now we can use it!"
   ]
  },
  {
   "cell_type": "code",
   "execution_count": 15,
   "id": "490604e9",
   "metadata": {},
   "outputs": [],
   "source": [
    "agent_executor = AgentExecutor.from_agent_and_tools(agent=agent, tools=tools, verbose=True)"
   ]
  },
  {
   "cell_type": "code",
   "execution_count": 16,
   "id": "653b1617",
   "metadata": {},
   "outputs": [
    {
     "name": "stdout",
     "output_type": "stream",
     "text": [
      "\n",
      "\n",
      "\u001b[1m> Entering new AgentExecutor chain...\u001b[0m\n",
      "\u001b[32;1m\u001b[1;3mThought: Wot year be it now? That be important to know the answer.\n",
      "Action: Search\n",
      "Action Input: \"current population canada 2023\"\u001b[0m\n",
      "\n",
      "Observation:\u001b[36;1m\u001b[1;3m38,649,283\u001b[0m\u001b[32;1m\u001b[1;3mAhoy! That be the correct year, but the answer be in regular numbers. 'Tis time to translate to pirate speak.\n",
      "Action: Search\n",
      "Action Input: \"38,649,283 in pirate speak\"\u001b[0m\n",
      "\n",
      "Observation:\u001b[36;1m\u001b[1;3mBrush up on your “Pirate Talk” with these helpful pirate phrases. Aaaarrrrgggghhhh! Pirate catch phrase of grumbling or disgust. Ahoy! Hello! Ahoy, Matey, Hello ...\u001b[0m\u001b[32;1m\u001b[1;3mThat be not helpful, I'll just do the translation meself.\n",
      "Final Answer: Arrrr, thar be 38,649,283 scallywags in Canada as of 2023.\u001b[0m\n",
      "\n",
      "\u001b[1m> Finished chain.\u001b[0m\n"
     ]
    },
    {
     "data": {
      "text/plain": [
       "'Arrrr, thar be 38,649,283 scallywags in Canada as of 2023.'"
      ]
     },
     "execution_count": 16,
     "metadata": {},
     "output_type": "execute_result"
    }
   ],
   "source": [
    "agent_executor.run(\"How many people live in canada as of 2023?\")"
   ]
  },
  {
   "cell_type": "code",
   "execution_count": null,
   "id": "adefb4c2",
   "metadata": {},
   "outputs": [],
   "source": []
  }
 ],
 "metadata": {
  "kernelspec": {
   "display_name": "Python 3 (ipykernel)",
   "language": "python",
   "name": "python3"
  },
  "language_info": {
   "codemirror_mode": {
    "name": "ipython",
    "version": 3
   },
   "file_extension": ".py",
   "mimetype": "text/x-python",
   "name": "python",
   "nbconvert_exporter": "python",
   "pygments_lexer": "ipython3",
   "version": "3.10.9"
  }
 },
 "nbformat": 4,
 "nbformat_minor": 5
}
